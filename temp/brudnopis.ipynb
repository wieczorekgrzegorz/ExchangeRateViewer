{
 "cells": [
  {
   "cell_type": "code",
   "execution_count": 1,
   "metadata": {},
   "outputs": [
    {
     "data": {
      "text/plain": [
       "[('2024-01-30', 0.2344),\n",
       " ('2024-01-31', 0.2343),\n",
       " ('2024-02-01', 0.2324),\n",
       " ('2024-02-02', 0.2326),\n",
       " ('2024-02-05', 0.2341),\n",
       " ('2024-02-06', 0.2367),\n",
       " ('2024-02-07', 0.2371),\n",
       " ('2024-02-08', 0.2365),\n",
       " ('2024-02-09', 0.2341),\n",
       " ('2024-02-12', 0.2355),\n",
       " ('2024-02-13', 0.2349)]"
      ]
     },
     "execution_count": 1,
     "metadata": {},
     "output_type": "execute_result"
    }
   ],
   "source": [
    "fetchall = [\n",
    "    (\"2024-01-30\", 0.2344),\n",
    "    (\"2024-01-31\", 0.2343),\n",
    "    (\"2024-02-01\", 0.2324),\n",
    "    (\"2024-02-02\", 0.2326),\n",
    "    (\"2024-02-05\", 0.2341),\n",
    "    (\"2024-02-06\", 0.2367),\n",
    "    (\"2024-02-07\", 0.2371),\n",
    "    (\"2024-02-08\", 0.2365),\n",
    "    (\"2024-02-09\", 0.2341),\n",
    "    (\"2024-02-12\", 0.2355),\n",
    "    (\"2024-02-13\", 0.2349),\n",
    "]\n",
    "fetchall\n"
   ]
  },
  {
   "cell_type": "code",
   "execution_count": 2,
   "metadata": {},
   "outputs": [
    {
     "data": {
      "text/plain": [
       "['2024-01-30',\n",
       " '2024-01-31',\n",
       " '2024-02-01',\n",
       " '2024-02-02',\n",
       " '2024-02-05',\n",
       " '2024-02-06',\n",
       " '2024-02-07',\n",
       " '2024-02-08',\n",
       " '2024-02-09',\n",
       " '2024-02-12',\n",
       " '2024-02-13']"
      ]
     },
     "execution_count": 2,
     "metadata": {},
     "output_type": "execute_result"
    }
   ],
   "source": [
    "dates_in_db = [x[0] for x in fetchall]\n",
    "dates_in_db\n"
   ]
  }
 ],
 "metadata": {
  "kernelspec": {
   "display_name": ".venv",
   "language": "python",
   "name": "python3"
  },
  "language_info": {
   "codemirror_mode": {
    "name": "ipython",
    "version": 3
   },
   "file_extension": ".py",
   "mimetype": "text/x-python",
   "name": "python",
   "nbconvert_exporter": "python",
   "pygments_lexer": "ipython3",
   "version": "3.11.3"
  }
 },
 "nbformat": 4,
 "nbformat_minor": 2
}
